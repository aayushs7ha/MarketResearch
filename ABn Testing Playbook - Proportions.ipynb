{
 "cells": [
  {
   "cell_type": "markdown",
   "metadata": {},
   "source": [
    "### Import Relevant Modules"
   ]
  },
  {
   "cell_type": "code",
   "execution_count": 1,
   "metadata": {
    "collapsed": true
   },
   "outputs": [],
   "source": [
    "import pandas as pd\n",
    "%matplotlib inline\n",
    "\n",
    "import math\n",
    "import scipy.stats as stats\n",
    "\n",
    "import numpy as np\n",
    "import matplotlib.pyplot as plt\n",
    "\n",
    "from statsmodels.stats.proportion import proportions_ztest\n",
    "from statsmodels.stats.proportion import proportions_chisquare\n",
    "\n",
    "import seaborn as sns\n",
    "sns.set(color_codes=True)\n",
    "\n",
    "#from datetime import datetime\n",
    "from datetime import timedelta\n",
    "import datetime\n",
    "import time\n",
    "import os"
   ]
  },
  {
   "cell_type": "code",
   "execution_count": 2,
   "metadata": {},
   "outputs": [],
   "source": [
    "# Plotting Colors\n",
    "color_hex_list = ['#88CCEE', '#CC6677', '#DDCC77', '#117733', '#332288', '#E58606',  '#999933', '#882255', '#661100', \n",
    " '#5D69B1', '#52BCA3', '#99C945', '#CC61B0', '#24796C', '#DAA51B', '#2F8AC4', '#764E9F', '#ED645A']"
   ]
  },
  {
   "cell_type": "markdown",
   "metadata": {},
   "source": [
    "---"
   ]
  },
  {
   "cell_type": "markdown",
   "metadata": {},
   "source": [
    "# SET UP: PRE TEST\n",
    "\n",
    "## Sample Size\n",
    "Please note that specifying the sample size should have been done **prior** to running the test. \n",
    "\n",
    "If you prefer to use a website to calculate the sample size, I would highly recommend this [one](https://www.evanmiller.org/ab-testing/sample-size.html) (the numbers are going to be very very close to what you see below).\n",
    "\n",
    "If you would like more details about each of the variables used in calculating the sample size and how they impact it, please see the original A/B Testing Playbook [here](https://github.com/newsela/jupyter-notebooks/blob/master/AB%20Test%20-%20Playbook.ipynb)."
   ]
  },
  {
   "cell_type": "markdown",
   "metadata": {},
   "source": [
    "##### ~ Set up Variables ~"
   ]
  },
  {
   "cell_type": "code",
   "execution_count": 3,
   "metadata": {
    "collapsed": true
   },
   "outputs": [],
   "source": [
    "# Variables needed to determine the required sample size for test\n",
    "baseline_probability = 0.10\n",
    "beta = 0.2\n",
    "alpha = 0.05\n",
    "effectSize = 0.01\n",
    "\n",
    "# Specify if you would like to run a one-sided test or two-sided test\n",
    "one_sided = True "
   ]
  },
  {
   "cell_type": "markdown",
   "metadata": {},
   "source": [
    "#### Based on the above metrics..."
   ]
  },
  {
   "cell_type": "code",
   "execution_count": 4,
   "metadata": {},
   "outputs": [
    {
     "name": "stdout",
     "output_type": "stream",
     "text": [
      "Baseline Conversion (pr) =  10.0 %\n",
      "Confidence Level =  95.0 %\n",
      "Alpha Z-score (za) =  1.64\n",
      "Power =  80.0 %\n",
      "Beta Z-score (zb) =  0.84\n",
      "Effect Size (E) =  1.0 %\n"
     ]
    }
   ],
   "source": [
    "alpha_Zscore = stats.norm.ppf(1-alpha*(1-0.5*(1-one_sided)))\n",
    "beta_Zscore = stats.norm.ppf(1-beta)\n",
    "\n",
    "print('Baseline Conversion (pr) = ', baseline_probability*100, '%')\n",
    "print('Confidence Level = ', (1-alpha)*100, '%')\n",
    "print('Alpha Z-score (za) = ', round(alpha_Zscore,2))\n",
    "print('Power = ', (1-beta)*100, '%')\n",
    "print('Beta Z-score (zb) = ', round(beta_Zscore,2))\n",
    "print('Effect Size (E) = ', effectSize*100, '%')"
   ]
  },
  {
   "cell_type": "markdown",
   "metadata": {},
   "source": [
    "#### Per Sample Traffic"
   ]
  },
  {
   "cell_type": "code",
   "execution_count": 5,
   "metadata": {},
   "outputs": [
    {
     "name": "stdout",
     "output_type": "stream",
     "text": [
      "Sample Size (per variation)= 11129.0\n"
     ]
    }
   ],
   "source": [
    "def sample_size(E, za, zb, pr):\n",
    "    variance = pr*(1-pr)  # largest when pr = 0.5, use when you don't have any baseline estimate\n",
    "    z = (za+zb)**2\n",
    "    top = 2*variance*z\n",
    "    bottom = E**2\n",
    "    n = top/bottom\n",
    "    return n\n",
    "\n",
    "n = sample_size(effectSize, alpha_Zscore, beta_Zscore, baseline_probability)\n",
    "print('Sample Size (per variation)=',round(n,0))"
   ]
  },
  {
   "cell_type": "markdown",
   "metadata": {},
   "source": [
    "## Determining Minimum Detectable Effect Size\n",
    "- Given our alpha and beta and sample size, can we actually claim there is a dfference in our test samples of that size?\n",
    "- In order to detect a smaller effect size, we will need to have a larger sample size (make sure that this is taken into account when sizing the test intially)."
   ]
  },
  {
   "cell_type": "code",
   "execution_count": 6,
   "metadata": {},
   "outputs": [
    {
     "data": {
      "text/plain": [
       "0.01"
      ]
     },
     "execution_count": 6,
     "metadata": {},
     "output_type": "execute_result"
    }
   ],
   "source": [
    "# Create a formula that takes sample size instead of effect size\n",
    "def measurable_effect_size(n, za, zb, pr):\n",
    "    variance = pr*(1-pr)  # largest when pr = 0.5, use when you don't have any baseline estimate\n",
    "    z = (za+zb)**2\n",
    "    top = 2*variance*z\n",
    "    bottom = n\n",
    "    E = math.sqrt(top/n)\n",
    "    return E\n",
    "\n",
    "# What is the current minimal detectable effect size? (should be the same one as you specified above)\n",
    "measurable_effect_size(n, alpha_Zscore, beta_Zscore, baseline_probability)"
   ]
  },
  {
   "cell_type": "markdown",
   "metadata": {},
   "source": [
    "## Alpha Cutoff \n",
    "An important note about multiple samples and Type I Error. Also known as Familywise Error Rate (Alpha Inflation)."
   ]
  },
  {
   "cell_type": "markdown",
   "metadata": {},
   "source": [
    "##### ~ Set up Variables ~\n",
    "Were any of the versions a second control (A/A test)? Will any of the versions be ignored in the final evaluation? What will be the final number of segments compared?"
   ]
  },
  {
   "cell_type": "code",
   "execution_count": 7,
   "metadata": {
    "collapsed": true
   },
   "outputs": [],
   "source": [
    "segments = 5"
   ]
  },
  {
   "cell_type": "markdown",
   "metadata": {},
   "source": [
    "The probability of at least one type 1 error in x independent tests. This is something to be conscientious when selecting the number of test groups and the alpha cutoff level."
   ]
  },
  {
   "cell_type": "code",
   "execution_count": 8,
   "metadata": {},
   "outputs": [
    {
     "data": {
      "text/plain": [
       "0.22621906250000023"
      ]
     },
     "execution_count": 8,
     "metadata": {},
     "output_type": "execute_result"
    }
   ],
   "source": [
    "1 - (1-alpha)**segments"
   ]
  },
  {
   "cell_type": "markdown",
   "metadata": {},
   "source": [
    "**Bonferroni Adjustment**"
   ]
  },
  {
   "cell_type": "code",
   "execution_count": 9,
   "metadata": {},
   "outputs": [
    {
     "name": "stdout",
     "output_type": "stream",
     "text": [
      "A possible correction for multiple comparisons:\n",
      "Test each hypothesis at level α∗ = (α/segments) = (0.05/5) = 0.01 (where 5 is number of segments in example).\n",
      "Adjustment ensures overall Type I error rate does not exceed α = 0.05\n",
      "However, this adjustment may be too conservative.\n"
     ]
    }
   ],
   "source": [
    "print(\"A possible correction for multiple comparisons:\")\n",
    "print(\"Test each hypothesis at level α∗ = (α/segments) = ({a}/{seg}) = {aseg} (where {seg} is number of segments in example).\".format(a=alpha, seg=segments, aseg = alpha/segments))\n",
    "print(\"Adjustment ensures overall Type I error rate does not exceed α = 0.05\")\n",
    "print(\"However, this adjustment may be too conservative.\")"
   ]
  },
  {
   "cell_type": "markdown",
   "metadata": {},
   "source": [
    "---"
   ]
  },
  {
   "cell_type": "markdown",
   "metadata": {},
   "source": [
    "# SET UP: PROPORTIONAL DATA"
   ]
  },
  {
   "cell_type": "markdown",
   "metadata": {},
   "source": [
    "An ideal dataset will have user level data, date stamps, both the traffic (whether it be visits or visitors depending on the purpose of the test), and test vartions (or category) that you'd like to compare."
   ]
  },
  {
   "cell_type": "code",
   "execution_count": 26,
   "metadata": {},
   "outputs": [
    {
     "data": {
      "text/html": [
       "<div>\n",
       "<style scoped>\n",
       "    .dataframe tbody tr th:only-of-type {\n",
       "        vertical-align: middle;\n",
       "    }\n",
       "\n",
       "    .dataframe tbody tr th {\n",
       "        vertical-align: top;\n",
       "    }\n",
       "\n",
       "    .dataframe thead th {\n",
       "        text-align: right;\n",
       "    }\n",
       "</style>\n",
       "<table border=\"1\" class=\"dataframe\">\n",
       "  <thead>\n",
       "    <tr style=\"text-align: right;\">\n",
       "      <th></th>\n",
       "      <th>user_id</th>\n",
       "      <th>date_joined</th>\n",
       "      <th>date_visit</th>\n",
       "      <th>version</th>\n",
       "      <th>type</th>\n",
       "      <th>category</th>\n",
       "      <th>visits</th>\n",
       "      <th>clicked</th>\n",
       "      <th>clicks</th>\n",
       "      <th>liked</th>\n",
       "      <th>likes</th>\n",
       "    </tr>\n",
       "  </thead>\n",
       "  <tbody>\n",
       "    <tr>\n",
       "      <th>0</th>\n",
       "      <td>31098458</td>\n",
       "      <td>2018-04-23</td>\n",
       "      <td>2018-04-23</td>\n",
       "      <td>B</td>\n",
       "      <td>0</td>\n",
       "      <td>E</td>\n",
       "      <td>3</td>\n",
       "      <td>0</td>\n",
       "      <td>0</td>\n",
       "      <td>0</td>\n",
       "      <td>0</td>\n",
       "    </tr>\n",
       "    <tr>\n",
       "      <th>313</th>\n",
       "      <td>31098587</td>\n",
       "      <td>2018-04-27</td>\n",
       "      <td>2018-04-23</td>\n",
       "      <td>C</td>\n",
       "      <td>1</td>\n",
       "      <td>M</td>\n",
       "      <td>1</td>\n",
       "      <td>1</td>\n",
       "      <td>1</td>\n",
       "      <td>1</td>\n",
       "      <td>8</td>\n",
       "    </tr>\n",
       "    <tr>\n",
       "      <th>312</th>\n",
       "      <td>31098584</td>\n",
       "      <td>2018-04-27</td>\n",
       "      <td>2018-04-23</td>\n",
       "      <td>A1</td>\n",
       "      <td>1</td>\n",
       "      <td>NaN</td>\n",
       "      <td>1</td>\n",
       "      <td>1</td>\n",
       "      <td>1</td>\n",
       "      <td>0</td>\n",
       "      <td>0</td>\n",
       "    </tr>\n",
       "    <tr>\n",
       "      <th>311</th>\n",
       "      <td>31098582</td>\n",
       "      <td>2018-04-27</td>\n",
       "      <td>2018-04-23</td>\n",
       "      <td>B</td>\n",
       "      <td>1</td>\n",
       "      <td>E</td>\n",
       "      <td>1</td>\n",
       "      <td>1</td>\n",
       "      <td>1</td>\n",
       "      <td>1</td>\n",
       "      <td>7</td>\n",
       "    </tr>\n",
       "    <tr>\n",
       "      <th>310</th>\n",
       "      <td>31098581</td>\n",
       "      <td>2018-04-27</td>\n",
       "      <td>2018-04-23</td>\n",
       "      <td>A2</td>\n",
       "      <td>0</td>\n",
       "      <td>NaN</td>\n",
       "      <td>1</td>\n",
       "      <td>1</td>\n",
       "      <td>2</td>\n",
       "      <td>1</td>\n",
       "      <td>5</td>\n",
       "    </tr>\n",
       "  </tbody>\n",
       "</table>\n",
       "</div>"
      ],
      "text/plain": [
       "      user_id date_joined date_visit version  type category  visits  clicked  \\\n",
       "0    31098458  2018-04-23 2018-04-23       B     0        E       3        0   \n",
       "313  31098587  2018-04-27 2018-04-23       C     1        M       1        1   \n",
       "312  31098584  2018-04-27 2018-04-23      A1     1      NaN       1        1   \n",
       "311  31098582  2018-04-27 2018-04-23       B     1        E       1        1   \n",
       "310  31098581  2018-04-27 2018-04-23      A2     0      NaN       1        1   \n",
       "\n",
       "     clicks  liked  likes  \n",
       "0         0      0      0  \n",
       "313       1      1      8  \n",
       "312       1      0      0  \n",
       "311       1      1      7  \n",
       "310       2      1      5  "
      ]
     },
     "execution_count": 26,
     "metadata": {},
     "output_type": "execute_result"
    }
   ],
   "source": [
    "# Load the raw data file into a dataframe (make sure to grab the latest version)\n",
    "file_name = 'Sample Data.csv'\n",
    "\n",
    "# If there is a date column by which you'd like to sort your data by, please enter it below\n",
    "date_sort = 'date_visit'\n",
    "\n",
    "# Update the column where the date is stored in the converters section below, if no such column, remove the conversion\n",
    "data = pd.read_csv('/Users/Leonova/Repos/ab-testing/Data/' + file_name,\n",
    "                  converters= {date_sort: pd.to_datetime} )\n",
    "\n",
    "# No action required: Leave the original dataframe untouched and sort the new dataframe\n",
    "d2 = data.copy()\n",
    "d2 = d2.sort_values(date_sort, ascending = True)\n",
    "\n",
    "# OPTIONAL: Specify audience (when appropriate)\n",
    "# d2 = d2[d2['type'] == True]\n",
    "\n",
    "# OPTIONAL: Specify date range (if not using the full data set)\n",
    "# d2['date'] == datetime.date(2018, 4, 2)\n",
    "\n",
    "# Name for numerator and denominator of the conversion rate\n",
    "traffic_label = 'clicked'\n",
    "conversion_label = 'liked'\n",
    "\n",
    "# Grouping column names\n",
    "user_label = 'user_id'\n",
    "date_label = 'date_visit'\n",
    "segment_label = 'version'\n",
    "\n",
    "\n",
    "# No action required. \n",
    "# List of names of unique names of the segments\n",
    "segment_list = list(d2[segment_label].unique())\n",
    "\n",
    "# OPTIONAL: Remove any variations (perhaps variation 1 is another Control for A/A Testing)\n",
    "# segment_list.remove('pubdate_decay_a')\n",
    "\n",
    "d2.head()"
   ]
  },
  {
   "cell_type": "markdown",
   "metadata": {},
   "source": [
    "#### Segment Summary"
   ]
  },
  {
   "cell_type": "code",
   "execution_count": 27,
   "metadata": {},
   "outputs": [
    {
     "name": "stdout",
     "output_type": "stream",
     "text": [
      "Different segments:  ['B', 'C', 'A1', 'A2']\n",
      "Number of segments:  4\n"
     ]
    }
   ],
   "source": [
    "# Count of the number of segments (or total test variations)\n",
    "variations = len(segment_list)\n",
    "\n",
    "# Verify that the segments/categories are correct \n",
    "print('Different segments: ',segment_list)\n",
    "print('Number of segments: ', variations)"
   ]
  },
  {
   "cell_type": "markdown",
   "metadata": {},
   "source": [
    "### Daily Usage"
   ]
  },
  {
   "cell_type": "code",
   "execution_count": 28,
   "metadata": {},
   "outputs": [
    {
     "data": {
      "image/png": "[encoded data removed]",
      "text/plain": [
       "<matplotlib.figure.Figure at 0xad5e5c0>"
      ]
     },
     "metadata": {},
     "output_type": "display_data"
    }
   ],
   "source": [
    "# Create Dataframes which aggregate the data by day\n",
    "daily_users = pd.DataFrame(d2.groupby(date_label)[user_label].nunique()).reset_index()\n",
    "daily_traffic = pd.DataFrame(d2.groupby(date_label)[traffic_label].sum()).reset_index()\n",
    "daily_conversions = pd.DataFrame(d2.groupby(date_label)[conversion_label].sum()).reset_index()\n",
    "\n",
    "\n",
    "# Plot Figures\n",
    "plt.subplots(figsize=(13, 6))\n",
    "plt.plot(pd.to_datetime(daily_users[date_label]), daily_users[user_label], label = 'users')\n",
    "plt.plot(pd.to_datetime(daily_traffic[date_label]), daily_traffic[traffic_label], label = ('traffic: ' + traffic_label))\n",
    "plt.plot(pd.to_datetime(daily_conversions[date_label]), daily_conversions[conversion_label], label = ('conversion: ' + conversion_label))\n",
    "\n",
    "# Chart Labels and Font Size\n",
    "plt.xlabel('Date', fontsize=15)\n",
    "plt.xticks(fontsize=15, rotation=30)\n",
    "plt.yticks(fontsize=15)\n",
    "plt.title('Daily: Users, Traffic & Conversions', fontsize=18)\n",
    "plt.legend(fontsize=15)\n",
    "plt.show()"
   ]
  },
  {
   "cell_type": "markdown",
   "metadata": {},
   "source": [
    "#### Overall Conversion Rate"
   ]
  },
  {
   "cell_type": "code",
   "execution_count": 30,
   "metadata": {},
   "outputs": [
    {
     "data": {
      "text/plain": [
       "40.43"
      ]
     },
     "execution_count": 30,
     "metadata": {},
     "output_type": "execute_result"
    }
   ],
   "source": [
    "round((daily_conversions[conversion_label]/daily_traffic[traffic_label]).mean()*100,2)"
   ]
  },
  {
   "cell_type": "markdown",
   "metadata": {},
   "source": [
    "#### Average Overall Traffic per User"
   ]
  },
  {
   "cell_type": "code",
   "execution_count": 20,
   "metadata": {},
   "outputs": [
    {
     "data": {
      "text/plain": [
       "0.39"
      ]
     },
     "execution_count": 20,
     "metadata": {},
     "output_type": "execute_result"
    }
   ],
   "source": [
    "round((daily_traffic[traffic_label]/daily_users[user_label]).mean(),2)"
   ]
  },
  {
   "cell_type": "markdown",
   "metadata": {},
   "source": [
    "#### Average Overall Conversions per User"
   ]
  },
  {
   "cell_type": "code",
   "execution_count": 31,
   "metadata": {},
   "outputs": [
    {
     "data": {
      "text/plain": [
       "0.39"
      ]
     },
     "execution_count": 31,
     "metadata": {},
     "output_type": "execute_result"
    }
   ],
   "source": [
    "round((daily_conversions[conversion_label]/daily_users[user_label]).mean(),2)"
   ]
  },
  {
   "cell_type": "markdown",
   "metadata": {},
   "source": [
    "### Daily Segment Volatility Chart"
   ]
  },
  {
   "cell_type": "code",
   "execution_count": 32,
   "metadata": {},
   "outputs": [
    {
     "data": {
      "image/png": "[encoded data removed]",
      "text/plain": [
       "<matplotlib.figure.Figure at 0x972bf98>"
      ]
     },
     "metadata": {},
     "output_type": "display_data"
    }
   ],
   "source": [
    "# Group data by day\n",
    "daily_segment_traffic = pd.DataFrame(d2.groupby([date_label, segment_label])[traffic_label].sum()).reset_index()\n",
    "daily_segment_conversions = pd.DataFrame(d2.groupby([date_label, segment_label])[conversion_label].sum()).reset_index()\n",
    "\n",
    "daily_segment_conv_rate = pd.merge(daily_segment_traffic, daily_segment_conversions, on = [date_label, segment_label], how = 'left')\n",
    "daily_segment_conv_rate['conversion_rate'] = 100*daily_segment_conv_rate[conversion_label]/daily_segment_conv_rate[traffic_label] \n",
    "\n",
    "\n",
    "# Plot Figures\n",
    "plt.subplots(figsize=(13, 6))\n",
    "\n",
    "for i in range(0, variations):\n",
    "    df = daily_segment_conv_rate[daily_segment_conv_rate[segment_label] == segment_list[i] ]\n",
    "    plt.plot(pd.to_datetime(df[date_label]), df['conversion_rate'], label = segment_list[i], color= color_hex_list[i])\n",
    "\n",
    "# Chart Labels and Font Size\n",
    "plt.xlabel('Date', fontsize=15)\n",
    "plt.ylabel('% Conversion', fontsize=15)\n",
    "\n",
    "plt.xticks(fontsize=15, rotation=30)\n",
    "plt.yticks(fontsize=15)\n",
    "chart_title = 'Daily % Conversion per Segment ({}/{})'.format(conversion_label, traffic_label)\n",
    "plt.title(chart_title, fontsize=18)\n",
    "plt.legend(fontsize=15)\n",
    "plt.show()"
   ]
  },
  {
   "cell_type": "markdown",
   "metadata": {},
   "source": [
    "### Create Simplified Table"
   ]
  },
  {
   "cell_type": "code",
   "execution_count": 33,
   "metadata": {},
   "outputs": [
    {
     "data": {
      "text/html": [
       "<div>\n",
       "<style scoped>\n",
       "    .dataframe tbody tr th:only-of-type {\n",
       "        vertical-align: middle;\n",
       "    }\n",
       "\n",
       "    .dataframe tbody tr th {\n",
       "        vertical-align: top;\n",
       "    }\n",
       "\n",
       "    .dataframe thead th {\n",
       "        text-align: right;\n",
       "    }\n",
       "</style>\n",
       "<table border=\"1\" class=\"dataframe\">\n",
       "  <thead>\n",
       "    <tr style=\"text-align: right;\">\n",
       "      <th></th>\n",
       "      <th>converted</th>\n",
       "      <th>traffic</th>\n",
       "    </tr>\n",
       "  </thead>\n",
       "  <tbody>\n",
       "    <tr>\n",
       "      <th>B</th>\n",
       "      <td>48</td>\n",
       "      <td>92</td>\n",
       "    </tr>\n",
       "    <tr>\n",
       "      <th>C</th>\n",
       "      <td>37</td>\n",
       "      <td>80</td>\n",
       "    </tr>\n",
       "    <tr>\n",
       "      <th>A1</th>\n",
       "      <td>42</td>\n",
       "      <td>86</td>\n",
       "    </tr>\n",
       "    <tr>\n",
       "      <th>A2</th>\n",
       "      <td>37</td>\n",
       "      <td>88</td>\n",
       "    </tr>\n",
       "  </tbody>\n",
       "</table>\n",
       "</div>"
      ],
      "text/plain": [
       "    converted  traffic\n",
       "B          48       92\n",
       "C          37       80\n",
       "A1         42       86\n",
       "A2         37       88"
      ]
     },
     "execution_count": 33,
     "metadata": {},
     "output_type": "execute_result"
    }
   ],
   "source": [
    "# Create a loop to aggregate the traffic and conversion for each segment.\n",
    "\n",
    "# Specify the 'traffic' column and the 'conversion' column \n",
    "aggregation_column = [traffic_label, conversion_label]\n",
    "\n",
    "# Create empty lists to populate in the loop below\n",
    "traffic = []\n",
    "conversions = [] \n",
    "\n",
    "# This table will the underlying table used in the subsequent sections to analyze the test results.\n",
    "for i in range(variations):\n",
    "    v, c = d2[d2[segment_label] == segment_list[i] ][aggregation_column[:2]].sum()\n",
    "\n",
    "    traffic.append(v)\n",
    "    conversions.append(c)\n",
    "    \n",
    "    \n",
    "# Create a Simple Data Frame for Proportions (from the above lists)   \n",
    "dfp_simple = pd.DataFrame({\n",
    "    \"converted\": conversions,\n",
    "    \"traffic\": traffic\n",
    "}, index = segment_list)\n",
    "\n",
    "dfp_simple"
   ]
  },
  {
   "cell_type": "markdown",
   "metadata": {},
   "source": [
    "### Additional Columns"
   ]
  },
  {
   "cell_type": "code",
   "execution_count": 34,
   "metadata": {
    "scrolled": true
   },
   "outputs": [
    {
     "data": {
      "text/html": [
       "<div>\n",
       "<style scoped>\n",
       "    .dataframe tbody tr th:only-of-type {\n",
       "        vertical-align: middle;\n",
       "    }\n",
       "\n",
       "    .dataframe tbody tr th {\n",
       "        vertical-align: top;\n",
       "    }\n",
       "\n",
       "    .dataframe thead th {\n",
       "        text-align: right;\n",
       "    }\n",
       "</style>\n",
       "<table border=\"1\" class=\"dataframe\">\n",
       "  <thead>\n",
       "    <tr style=\"text-align: right;\">\n",
       "      <th></th>\n",
       "      <th>converted</th>\n",
       "      <th>traffic</th>\n",
       "      <th>not_converted</th>\n",
       "      <th>converted_proportion</th>\n",
       "      <th>standard_error</th>\n",
       "      <th>population_percentage</th>\n",
       "    </tr>\n",
       "  </thead>\n",
       "  <tbody>\n",
       "    <tr>\n",
       "      <th>A1</th>\n",
       "      <td>42</td>\n",
       "      <td>86</td>\n",
       "      <td>44</td>\n",
       "      <td>0.488372</td>\n",
       "      <td>0.053902</td>\n",
       "      <td>0.248555</td>\n",
       "    </tr>\n",
       "    <tr>\n",
       "      <th>A2</th>\n",
       "      <td>37</td>\n",
       "      <td>88</td>\n",
       "      <td>51</td>\n",
       "      <td>0.420455</td>\n",
       "      <td>0.052621</td>\n",
       "      <td>0.254335</td>\n",
       "    </tr>\n",
       "    <tr>\n",
       "      <th>B</th>\n",
       "      <td>48</td>\n",
       "      <td>92</td>\n",
       "      <td>44</td>\n",
       "      <td>0.521739</td>\n",
       "      <td>0.052079</td>\n",
       "      <td>0.265896</td>\n",
       "    </tr>\n",
       "    <tr>\n",
       "      <th>C</th>\n",
       "      <td>37</td>\n",
       "      <td>80</td>\n",
       "      <td>43</td>\n",
       "      <td>0.462500</td>\n",
       "      <td>0.055744</td>\n",
       "      <td>0.231214</td>\n",
       "    </tr>\n",
       "    <tr>\n",
       "      <th>Total</th>\n",
       "      <td>164</td>\n",
       "      <td>346</td>\n",
       "      <td>182</td>\n",
       "      <td>0.473988</td>\n",
       "      <td>0.026844</td>\n",
       "      <td>1.000000</td>\n",
       "    </tr>\n",
       "  </tbody>\n",
       "</table>\n",
       "</div>"
      ],
      "text/plain": [
       "       converted  traffic  not_converted  converted_proportion  \\\n",
       "A1            42       86             44              0.488372   \n",
       "A2            37       88             51              0.420455   \n",
       "B             48       92             44              0.521739   \n",
       "C             37       80             43              0.462500   \n",
       "Total        164      346            182              0.473988   \n",
       "\n",
       "       standard_error  population_percentage  \n",
       "A1           0.053902               0.248555  \n",
       "A2           0.052621               0.254335  \n",
       "B            0.052079               0.265896  \n",
       "C            0.055744               0.231214  \n",
       "Total        0.026844               1.000000  "
      ]
     },
     "execution_count": 34,
     "metadata": {},
     "output_type": "execute_result"
    }
   ],
   "source": [
    "dfp = dfp_simple.copy().sort_index()\n",
    "\n",
    "# Sum up all the columns\n",
    "dfp.loc['Total'] = dfp.sum()\n",
    "\n",
    "# What were the non conversions?\n",
    "dfp['not_converted'] = dfp['traffic'] - dfp['converted']\n",
    "\n",
    "# What were the different segement conversions (as well as overall)?\n",
    "proportion = dfp.converted/dfp.traffic\n",
    "dfp['converted_proportion'] = proportion\n",
    "\n",
    "# Standard Error\n",
    "dfp['standard_error'] = ((proportion * (1-proportion))/dfp.traffic)**(.5)\n",
    "\n",
    "# Calculate the traffic percentage in each variation\n",
    "n = dfp.loc['Total']['traffic']\n",
    "dfp['population_percentage'] = dfp['traffic']/n\n",
    "\n",
    "dfp"
   ]
  },
  {
   "cell_type": "markdown",
   "metadata": {},
   "source": [
    "### Plot the Conversion Rates"
   ]
  },
  {
   "cell_type": "code",
   "execution_count": 35,
   "metadata": {},
   "outputs": [
    {
     "data": {
      "image/png": "[encoded data removed]",
      "text/plain": [
       "<matplotlib.figure.Figure at 0xb756358>"
      ]
     },
     "metadata": {},
     "output_type": "display_data"
    }
   ],
   "source": [
    "# Bar Plot Inputs\n",
    "labels = dfp.index[:-1].tolist()\n",
    "label_index = np.arange(len(labels))\n",
    "values = (round(dfp['converted_proportion'][:-1]*100,2)).tolist()\n",
    "half_ci = (round(dfp['standard_error'][:-1]*1.96*100,2)).tolist()\n",
    "\n",
    "# Plot the Conversion Rate of each segment and the sample standard error\n",
    "plt.subplots(figsize=(13, 6))\n",
    "plt.bar(label_index, values, yerr=half_ci, alpha=0.75,\n",
    "       color= color_hex_list[0:len(labels)],\n",
    "       error_kw=dict(ecolor='black', lw=2, capsize=5, capthick=2))\n",
    "plt.xlabel('Segment', fontsize=15)\n",
    "plt.ylabel('% Conversion', fontsize=15)\n",
    "plt.xticks(label_index, labels, fontsize=13, rotation=30)\n",
    "plt.yticks(fontsize=15)\n",
    "plt.title('Conversion Rate per Segment', fontsize=18)\n",
    "plt.show()"
   ]
  },
  {
   "cell_type": "markdown",
   "metadata": {},
   "source": [
    "**IMPORTANT:** Please do not make any conclusions from the above graph alone. The formulas below call out segments that are statistically significant."
   ]
  },
  {
   "cell_type": "markdown",
   "metadata": {},
   "source": [
    "---"
   ]
  },
  {
   "cell_type": "markdown",
   "metadata": {},
   "source": [
    "# TEST EVALUATION"
   ]
  },
  {
   "cell_type": "markdown",
   "metadata": {},
   "source": [
    "## 2 Sample Proportion\n",
    "*Type of test: z-test*\n",
    "\n",
    "If you would prefer to use an online calculator (only for 2 samples), I would recommend this [one](https://abtestguide.com/calc/)."
   ]
  },
  {
   "cell_type": "markdown",
   "metadata": {},
   "source": [
    "##### ~ Set up Variables ~"
   ]
  },
  {
   "cell_type": "code",
   "execution_count": 37,
   "metadata": {
    "collapsed": true
   },
   "outputs": [],
   "source": [
    "# Set up Variables (choose which two segments you'd like to compare)\n",
    "variation1 = 'A1'\n",
    "variation2 = 'A2'"
   ]
  },
  {
   "cell_type": "markdown",
   "metadata": {},
   "source": [
    "### Summary of Input Variables"
   ]
  },
  {
   "cell_type": "code",
   "execution_count": 38,
   "metadata": {},
   "outputs": [
    {
     "name": "stdout",
     "output_type": "stream",
     "text": [
      "A1 Converted: 42.0\n",
      "A1 Traffic: 86.0\n",
      "A2 Converted: 37.0\n",
      "A2 Traffic: 88.0\n"
     ]
    }
   ],
   "source": [
    "# Variable inputs\n",
    "x1 = dfp.loc[variation1]['converted']\n",
    "n1 = dfp.loc[variation1]['traffic']\n",
    "x2 = dfp.loc[variation2]['converted']\n",
    "n2 = dfp.loc[variation2]['traffic']\n",
    "\n",
    "print(variation1, 'Converted:', x1)\n",
    "print(variation1, 'Traffic:', n1)\n",
    "print(variation2, 'Converted:', x2)\n",
    "print(variation2, 'Traffic:', n2)"
   ]
  },
  {
   "cell_type": "markdown",
   "metadata": {},
   "source": [
    "### Evaluate Results"
   ]
  },
  {
   "cell_type": "code",
   "execution_count": 39,
   "metadata": {},
   "outputs": [
    {
     "name": "stdout",
     "output_type": "stream",
     "text": [
      "Proportion ( A1 ): 48.84%\n",
      "Proportion ( A2 ): 42.05%\n",
      "Pooled Sample Proportion: 45.40%\n",
      "Absolute Percent Difference Between Samples: -6.79%\n",
      "Relative Percent Difference Between Samples: -13.91%\n",
      "\n",
      "Variance: 0.5699%\n",
      "Standard Error: 7.55%\n",
      "\n",
      "z-stat: 0.8996463724803273\n",
      "p-value: 0.184154235386902\n"
     ]
    }
   ],
   "source": [
    "p1 = x1/n1\n",
    "p2 = x2/n2\n",
    "p = (x1+x2)/(n1+n2)\n",
    "print('Proportion (', variation1 ,'): {0:.2f}%'.format(100*p1))\n",
    "print('Proportion (', variation2 ,'): {0:.2f}%'.format(100*p2))\n",
    "print('Pooled Sample Proportion: {0:.2f}%'.format(100*p))\n",
    "print('Absolute Percent Difference Between Samples: {0:.2f}%'.format(100*(p2-p1)))\n",
    "print('Relative Percent Difference Between Samples: {0:.2f}%'.format(100*(p2-p1)/p1))\n",
    "\n",
    "\n",
    "var = p*(1-p)*(1/n1+1/n2)\n",
    "se = math.sqrt(var)\n",
    "print('\\nVariance: {0:.4f}%'.format(100*var))\n",
    "print('Standard Error: {0:.2f}%'.format(100*se))\n",
    "\n",
    "z = (p1-p2)/se\n",
    "pvalue = 1-stats.norm.cdf(abs(z))\n",
    "pvalue *= 2-one_sided\n",
    "print('\\nz-stat: {z}'.format(z=z))\n",
    "print('p-value: {p}'.format(p=pvalue))"
   ]
  },
  {
   "cell_type": "markdown",
   "metadata": {},
   "source": [
    "### Detectable Difference\n",
    "Does it meet our test set up metrics? Given our sample size (take the lowest of the two examples), are we able to actually detect the above `Absolute Percent Difference Between Samples`?"
   ]
  },
  {
   "cell_type": "code",
   "execution_count": 120,
   "metadata": {},
   "outputs": [
    {
     "name": "stdout",
     "output_type": "stream",
     "text": [
      "With our current sample size of 88.0 and baseline proportion of 0.49, we can detect a minimum absolute difference of 18.74%.\n",
      "Our current difference is 6.79%, which requires a a minimum sample size of 241.0\n",
      "Note, this is given our orginal alpha of 1.64 and beta of 0.84.\n"
     ]
    }
   ],
   "source": [
    "m_proportion = abs(min((1-p1),(1-p1))-1)\n",
    "min_detectable_effect_size = measurable_effect_size(min([n1, n2]), alpha_Zscore, beta_Zscore, m_proportion)\n",
    "print(\"With our current sample size of {n} and baseline proportion of {m:.2f}, we can detect a minimum absolute difference of {e:.2f}%.\"\n",
    "      .format(n = min([n1, n2]), m = m_proportion, e=min_detectable_effect_size*100))\n",
    "\n",
    "# Needed sample size for existing absolute difference, all else held constant\n",
    "n1 = sample_size(p2-p1, alpha_Zscore, beta_Zscore, baseline_probability)\n",
    "\n",
    "print(\"Our current difference is {d:.2f}%, which requires a a minimum sample size of {n_needed}\"\n",
    "      .format(d=abs(100*(p2-p1)), n_needed = round(n1,0)))\n",
    "\n",
    "print(\"Note, this is given our orginal alpha of {a:.2f} and beta of {b:.2f}.\".format(a = alpha_Zscore, b = beta_Zscore))"
   ]
  },
  {
   "cell_type": "markdown",
   "metadata": {},
   "source": [
    "**Need more data?**\n",
    "\n",
    "Do we need to collect more data for these two samples?"
   ]
  },
  {
   "cell_type": "code",
   "execution_count": 41,
   "metadata": {},
   "outputs": [
    {
     "name": "stdout",
     "output_type": "stream",
     "text": [
      "Yes, we need to collect more data to make a claim of signficance about the above difference. \n",
      "\n",
      "STOP\n"
     ]
    }
   ],
   "source": [
    "abs(p2-p1) >= min_detectable_effect_size\n",
    "\n",
    "if abs(p2-p1) >= min_detectable_effect_size:\n",
    "   print(\"No, we do not need to collect more data to verify whether this difference is truly statistically significant.\")\n",
    "else:\n",
    "   print(\"Yes, we need to collect more data to make a claim of signficance about the above difference. \\n\\nSTOP\")"
   ]
  },
  {
   "cell_type": "markdown",
   "metadata": {},
   "source": [
    "#### Result Interpretation\n",
    "Before going to this step, make sure we do not need to collect more data."
   ]
  },
  {
   "cell_type": "code",
   "execution_count": 42,
   "metadata": {},
   "outputs": [
    {
     "name": "stdout",
     "output_type": "stream",
     "text": [
      "Is the p-value 0.18415 less than the cutoff, alpha, 0.05?\n",
      "\n",
      "Fail to reject the null-hypothesis.\n"
     ]
    }
   ],
   "source": [
    "print('Is the p-value {p} less than the cutoff, alpha, {alpha}?\\n'.format(p=round(pvalue,5), alpha=alpha))\n",
    "if (pvalue < alpha):\n",
    "    print('The p-value is smaller than the cutoff, therefore we reject the null-hypothesis (null-hypothesis = no difference).')\n",
    "else: \n",
    "    print('Fail to reject the null-hypothesis.')"
   ]
  },
  {
   "cell_type": "markdown",
   "metadata": {},
   "source": [
    "### Confidence Interval - for Effect Size"
   ]
  },
  {
   "cell_type": "code",
   "execution_count": 43,
   "metadata": {},
   "outputs": [
    {
     "name": "stdout",
     "output_type": "stream",
     "text": [
      " 95% Confidence Interval = ( -19.21% , 5.63% )\n"
     ]
    }
   ],
   "source": [
    "# Calculate the z-stat for selected one or two tailed test\n",
    "z_critical = stats.norm.ppf(1-alpha*(1-0.5*(1-one_sided)))\n",
    "\n",
    "# Calculate the lower and upper confidence intervals for the difference between the samples\n",
    "ci_low = (p2-p1) - z_critical*se\n",
    "ci_upp = (p2-p1) + z_critical*se\n",
    "\n",
    "print(' 95% Confidence Interval = ( {0:.2f}% , {1:.2f}% )'\n",
    "      .format(100*ci_low, 100*ci_upp))"
   ]
  },
  {
   "cell_type": "markdown",
   "metadata": {},
   "source": [
    "### Stats Model Formula"
   ]
  },
  {
   "cell_type": "markdown",
   "metadata": {},
   "source": [
    "The below is the same as the result above, but for a two-tailed test."
   ]
  },
  {
   "cell_type": "code",
   "execution_count": 44,
   "metadata": {},
   "outputs": [
    {
     "name": "stdout",
     "output_type": "stream",
     "text": [
      "z-stat: 0.8996\n",
      "p-value: 0.81584576\n"
     ]
    }
   ],
   "source": [
    "counts = np.array([x1, x2])\n",
    "nobs = np.array([n1, n2])\n",
    "\n",
    "# Options for alternative parameter  [‘two-sided’, ‘smaller’, ‘larger’]\n",
    "stat, pval = proportions_ztest(counts, nobs, alternative = 'smaller')\n",
    "print('z-stat: {0:.4f}'.format(stat))\n",
    "print('p-value: {0:.8f}'.format(pval))"
   ]
  },
  {
   "cell_type": "markdown",
   "metadata": {},
   "source": [
    "#### Extra"
   ]
  },
  {
   "cell_type": "code",
   "execution_count": 45,
   "metadata": {},
   "outputs": [
    {
     "name": "stdout",
     "output_type": "stream",
     "text": [
      "p-value: 0.368308470773804\n"
     ]
    }
   ],
   "source": [
    "# 2 Tailed Result\n",
    "pvalue = 1-stats.norm.cdf(abs(z))\n",
    "pvalue *= 2-False\n",
    "print('p-value: {p}'.format(p=pvalue))"
   ]
  },
  {
   "cell_type": "code",
   "execution_count": 46,
   "metadata": {},
   "outputs": [
    {
     "name": "stdout",
     "output_type": "stream",
     "text": [
      "p-value: 0.184154235386902\n"
     ]
    }
   ],
   "source": [
    "# 1 Tailed Result\n",
    "pvalue = 1-stats.norm.cdf(abs(z))\n",
    "pvalue *= 2-True\n",
    "print('p-value: {p}'.format(p=pvalue))"
   ]
  },
  {
   "cell_type": "markdown",
   "metadata": {},
   "source": [
    "## 2+ Sample Proportion\n",
    "*Type of test: Chi Square*"
   ]
  },
  {
   "cell_type": "markdown",
   "metadata": {},
   "source": [
    "**Guiding Questions**\n",
    "- Do we expect the observed frequencies to perfectly match the expected frequencies if the null hypothesis is true?\n",
    "- How likely is it to find a discrepancy this extreme or more if our null hypothesis is true?\n",
    "\n",
    "**Hypotheses**\n",
    "- H0: There is no association between segment and conversion\n",
    "- HA: There is an association between segment and conversion\n",
    "    - But we don’t know (for sure) which request types have different proportions from each other → inference or estimation on pairwise proportion differences (see Marascuilo Procedure below to answer this question). "
   ]
  },
  {
   "cell_type": "markdown",
   "metadata": {},
   "source": [
    "### Main Question: \n",
    "Is there a difference between any of the versions?"
   ]
  },
  {
   "cell_type": "markdown",
   "metadata": {},
   "source": [
    "### Observed Proportions"
   ]
  },
  {
   "cell_type": "code",
   "execution_count": 47,
   "metadata": {},
   "outputs": [
    {
     "data": {
      "text/html": [
       "<div>\n",
       "<style scoped>\n",
       "    .dataframe tbody tr th:only-of-type {\n",
       "        vertical-align: middle;\n",
       "    }\n",
       "\n",
       "    .dataframe tbody tr th {\n",
       "        vertical-align: top;\n",
       "    }\n",
       "\n",
       "    .dataframe thead th {\n",
       "        text-align: right;\n",
       "    }\n",
       "</style>\n",
       "<table border=\"1\" class=\"dataframe\">\n",
       "  <thead>\n",
       "    <tr style=\"text-align: right;\">\n",
       "      <th></th>\n",
       "      <th>A1</th>\n",
       "      <th>A2</th>\n",
       "      <th>B</th>\n",
       "      <th>C</th>\n",
       "      <th>Total</th>\n",
       "    </tr>\n",
       "  </thead>\n",
       "  <tbody>\n",
       "    <tr>\n",
       "      <th>converted</th>\n",
       "      <td>42</td>\n",
       "      <td>37</td>\n",
       "      <td>48</td>\n",
       "      <td>37</td>\n",
       "      <td>164</td>\n",
       "    </tr>\n",
       "    <tr>\n",
       "      <th>not_converted</th>\n",
       "      <td>44</td>\n",
       "      <td>51</td>\n",
       "      <td>44</td>\n",
       "      <td>43</td>\n",
       "      <td>182</td>\n",
       "    </tr>\n",
       "    <tr>\n",
       "      <th>traffic</th>\n",
       "      <td>86</td>\n",
       "      <td>88</td>\n",
       "      <td>92</td>\n",
       "      <td>80</td>\n",
       "      <td>346</td>\n",
       "    </tr>\n",
       "  </tbody>\n",
       "</table>\n",
       "</div>"
      ],
      "text/plain": [
       "               A1  A2   B   C  Total\n",
       "converted      42  37  48  37    164\n",
       "not_converted  44  51  44  43    182\n",
       "traffic        86  88  92  80    346"
      ]
     },
     "execution_count": 47,
     "metadata": {},
     "output_type": "execute_result"
    }
   ],
   "source": [
    "# DataFrame Proportion Transposed Observed = dfpTo\n",
    "dfpTo = dfp[['converted', 'not_converted', 'traffic']].T\n",
    "dfpTo"
   ]
  },
  {
   "cell_type": "markdown",
   "metadata": {},
   "source": [
    "### Expected Proportions"
   ]
  },
  {
   "cell_type": "code",
   "execution_count": 48,
   "metadata": {},
   "outputs": [
    {
     "data": {
      "text/html": [
       "<div>\n",
       "<style scoped>\n",
       "    .dataframe tbody tr th:only-of-type {\n",
       "        vertical-align: middle;\n",
       "    }\n",
       "\n",
       "    .dataframe tbody tr th {\n",
       "        vertical-align: top;\n",
       "    }\n",
       "\n",
       "    .dataframe thead th {\n",
       "        text-align: right;\n",
       "    }\n",
       "</style>\n",
       "<table border=\"1\" class=\"dataframe\">\n",
       "  <thead>\n",
       "    <tr style=\"text-align: right;\">\n",
       "      <th></th>\n",
       "      <th>A1</th>\n",
       "      <th>A2</th>\n",
       "      <th>B</th>\n",
       "      <th>C</th>\n",
       "      <th>Total</th>\n",
       "    </tr>\n",
       "  </thead>\n",
       "  <tbody>\n",
       "    <tr>\n",
       "      <th>converted</th>\n",
       "      <td>40.763006</td>\n",
       "      <td>41.710983</td>\n",
       "      <td>43.606936</td>\n",
       "      <td>37.919075</td>\n",
       "      <td>164</td>\n",
       "    </tr>\n",
       "    <tr>\n",
       "      <th>not_converted</th>\n",
       "      <td>45.236994</td>\n",
       "      <td>46.289017</td>\n",
       "      <td>48.393064</td>\n",
       "      <td>42.080925</td>\n",
       "      <td>182</td>\n",
       "    </tr>\n",
       "    <tr>\n",
       "      <th>traffic</th>\n",
       "      <td>86.000000</td>\n",
       "      <td>88.000000</td>\n",
       "      <td>92.000000</td>\n",
       "      <td>80.000000</td>\n",
       "      <td>346</td>\n",
       "    </tr>\n",
       "  </tbody>\n",
       "</table>\n",
       "</div>"
      ],
      "text/plain": [
       "                      A1         A2          B          C  Total\n",
       "converted      40.763006  41.710983  43.606936  37.919075    164\n",
       "not_converted  45.236994  46.289017  48.393064  42.080925    182\n",
       "traffic        86.000000  88.000000  92.000000  80.000000    346"
      ]
     },
     "execution_count": 48,
     "metadata": {},
     "output_type": "execute_result"
    }
   ],
   "source": [
    "# DataFrame Proportion Transposed Expected = dfpTe\n",
    "dfpTe = dfpTo.copy()\n",
    "\n",
    "# Replace with expected values\n",
    "for i in range(variations):\n",
    "    for j in range(0, 2):\n",
    "        dfpTe.iloc[j,i] = (dfpTo.loc['traffic'][i]*dfpTo['Total'][j])/n\n",
    "\n",
    "dfpTe"
   ]
  },
  {
   "cell_type": "markdown",
   "metadata": {},
   "source": [
    "### Calculate Chi Square and p-value"
   ]
  },
  {
   "cell_type": "code",
   "execution_count": 49,
   "metadata": {},
   "outputs": [
    {
     "data": {
      "text/plain": [
       "1.9666036399234186"
      ]
     },
     "execution_count": 49,
     "metadata": {},
     "output_type": "execute_result"
    }
   ],
   "source": [
    "# Drop the last column AND drop the last row (the columns with the totals)\n",
    "o = dfpTo.drop(dfpTo.columns[-1], axis = 1)[:-1]\n",
    "e = dfpTe.drop(dfpTe.columns[-1], axis = 1)[:-1]\n",
    "\n",
    "ss = (o-e)**2/e\n",
    "ch2 = ss.values.sum()\n",
    "ch2"
   ]
  },
  {
   "cell_type": "code",
   "execution_count": 50,
   "metadata": {},
   "outputs": [
    {
     "data": {
      "text/plain": [
       "0.5793670974852936"
      ]
     },
     "execution_count": 50,
     "metadata": {},
     "output_type": "execute_result"
    }
   ],
   "source": [
    "# P-value for a chi score with variations-1 degrees of freedom\n",
    "pvalue_chi = 1 - stats.chi2.cdf(ch2, variations-1)\n",
    "pvalue_chi"
   ]
  },
  {
   "cell_type": "markdown",
   "metadata": {},
   "source": [
    "#### Result Interpretation"
   ]
  },
  {
   "cell_type": "code",
   "execution_count": 51,
   "metadata": {},
   "outputs": [
    {
     "name": "stdout",
     "output_type": "stream",
     "text": [
      "Is the p-value 0.57937 less than the cutoff, alpha, 0.05?\n",
      "\n",
      "Fail to reject the null-hypothesis.\n"
     ]
    }
   ],
   "source": [
    "print('Is the p-value {p} less than the cutoff, alpha, {alpha}?\\n'.format(p=round(pvalue_chi,5), alpha=alpha))\n",
    "if (pvalue < alpha):\n",
    "    print('The p-value is smaller than the cutoff, therefore we reject the null-hypothesis (null-hypothesis = no difference).')\n",
    "else: \n",
    "    print('Fail to reject the null-hypothesis.')"
   ]
  },
  {
   "cell_type": "markdown",
   "metadata": {},
   "source": [
    "#### Stats Model Formula"
   ]
  },
  {
   "cell_type": "code",
   "execution_count": 52,
   "metadata": {
    "scrolled": true
   },
   "outputs": [
    {
     "data": {
      "text/plain": [
       "(1.9666036399234188, 0.5793670974852936, (array([[48, 44],\n",
       "         [37, 43],\n",
       "         [42, 44],\n",
       "         [37, 51]], dtype=int64), array([[43.60693642, 48.39306358],\n",
       "         [37.91907514, 42.08092486],\n",
       "         [40.76300578, 45.23699422],\n",
       "         [41.71098266, 46.28901734]])))"
      ]
     },
     "execution_count": 52,
     "metadata": {},
     "output_type": "execute_result"
    }
   ],
   "source": [
    "# stat, pval, margins = proportions_chisquare(counts, nobs)\n",
    "proportions_chisquare(dfp_simple.converted, dfp_simple.traffic) "
   ]
  },
  {
   "cell_type": "markdown",
   "metadata": {},
   "source": [
    "---"
   ]
  },
  {
   "cell_type": "markdown",
   "metadata": {},
   "source": [
    "### Main Question: \n",
    "Which versions performed better than the others, if any?"
   ]
  },
  {
   "cell_type": "markdown",
   "metadata": {},
   "source": [
    "### Marascuilo Procedure (Similar to Tukey-Kramer Test)\n",
    "Calculate which proportions are statistically different. (Reference: https://www.itl.nist.gov/div898/handbook/prc/section4/prc474.htm)\n",
    "\n",
    "Iterate through all the possible pairwise tests."
   ]
  },
  {
   "cell_type": "code",
   "execution_count": 53,
   "metadata": {
    "collapsed": true
   },
   "outputs": [],
   "source": [
    "# Create lists to iterate through\n",
    "prp = list(dfp_simple['converted']/dfp_simple['traffic'])\n",
    "vis = list(dfp_simple['traffic'])\n",
    "seg = list(dfp_simple.index.values)\n",
    "\n",
    "# Calculate the chi square stat\n",
    "c2 = stats.chi2.cdf(ch2, variations-1)\n",
    "\n",
    "# Empty lists (to be populated in the for loop)\n",
    "diff = []\n",
    "critical_value = []\n",
    "segment1 = []\n",
    "segment2 = []\n",
    "proportion1 = []\n",
    "proportion2 = []\n",
    "segment1_size = []\n",
    "segment2_size = []\n",
    "smallest_measurable_effect_size = []"
   ]
  },
  {
   "cell_type": "code",
   "execution_count": 103,
   "metadata": {},
   "outputs": [],
   "source": [
    "# Pairwise comparisons (iterate through all combinations)\n",
    "for i in range(0,(variations)):\n",
    "    for j in range((i+1),variations):\n",
    "        segment1.append(seg[i])\n",
    "        segment2.append(seg[j])\n",
    "        \n",
    "        proportion1.append(prp[i])\n",
    "        proportion2.append(prp[j])\n",
    "        \n",
    "        segment1_size.append(vis[i])\n",
    "        segment2_size.append(vis[j])\n",
    "        smaller_sample_size = min(vis[i], vis[j])\n",
    "        # Use the maximum of the two proportions, more conservative, to calculate minimal detectable effect size in the next step\n",
    "        #max_proportion = max(prp[i], prp[j])\n",
    "        # Use the proportion that is closest to 50%, more conservative, to calculate minimal detectable effect size in the next step\n",
    "        max_proportion = abs(min((1-prp[i]),(1-prp[j]))-1)\n",
    "        es = measurable_effect_size(smaller_sample_size, alpha_Zscore, beta_Zscore, max_proportion)\n",
    "        smallest_measurable_effect_size.append(es)\n",
    "\n",
    "        d = prp[i]-prp[j]\n",
    "        diff.append(d)\n",
    "    \n",
    "        cr = math.sqrt(c2)*math.sqrt(prp[i]*(1-prp[i])/vis[i] + prp[j]*(1-prp[j])/vis[j])\n",
    "        critical_value.append(cr)\n"
   ]
  },
  {
   "cell_type": "code",
   "execution_count": 104,
   "metadata": {},
   "outputs": [],
   "source": [
    "# Create a new dataframe for the Marascuilo Procedure Calculations\n",
    "dfm = []\n",
    "dfm = pd.DataFrame({\n",
    "    \"segment1\" : segment1,\n",
    "    \"segment2\" : segment2,\n",
    "    \"segment1_size\": segment1_size,\n",
    "    \"segment2_size\": segment2_size,\n",
    "    \"proportion1\": proportion1,\n",
    "    \"proportion2\": proportion2,\n",
    "    \"smallest_measurable_effect_size\": smallest_measurable_effect_size,\n",
    "    \"diff\": diff,\n",
    "    \"critical_value\": critical_value\n",
    "})"
   ]
  },
  {
   "cell_type": "markdown",
   "metadata": {},
   "source": [
    "### Determine significance at the alpha level\n",
    "Based on our test setup and population per segment, are we able to make a claim on the statistical significance of our results?\n",
    "\n",
    "Test Setup\n",
    "- reliability - alpha \n",
    "- power - beta \n",
    "- sample size\n",
    "- effect size"
   ]
  },
  {
   "cell_type": "code",
   "execution_count": 105,
   "metadata": {},
   "outputs": [
    {
     "data": {
      "text/html": [
       "<div>\n",
       "<style scoped>\n",
       "    .dataframe tbody tr th:only-of-type {\n",
       "        vertical-align: middle;\n",
       "    }\n",
       "\n",
       "    .dataframe tbody tr th {\n",
       "        vertical-align: top;\n",
       "    }\n",
       "\n",
       "    .dataframe thead th {\n",
       "        text-align: right;\n",
       "    }\n",
       "</style>\n",
       "<table border=\"1\" class=\"dataframe\">\n",
       "  <thead>\n",
       "    <tr style=\"text-align: right;\">\n",
       "      <th></th>\n",
       "      <th>segment1</th>\n",
       "      <th>proportion1</th>\n",
       "      <th>segment2</th>\n",
       "      <th>proportion2</th>\n",
       "      <th>diff</th>\n",
       "      <th>smallest_measurable_effect_size</th>\n",
       "      <th>critical_value</th>\n",
       "      <th>significant</th>\n",
       "      <th>signficant_effect_size</th>\n",
       "    </tr>\n",
       "  </thead>\n",
       "  <tbody>\n",
       "    <tr>\n",
       "      <th>2</th>\n",
       "      <td>B</td>\n",
       "      <td>0.521739</td>\n",
       "      <td>A2</td>\n",
       "      <td>0.420455</td>\n",
       "      <td>0.101285</td>\n",
       "      <td>0.187248</td>\n",
       "      <td>0.048017</td>\n",
       "      <td>True</td>\n",
       "      <td>False</td>\n",
       "    </tr>\n",
       "    <tr>\n",
       "      <th>8</th>\n",
       "      <td>B</td>\n",
       "      <td>0.521739</td>\n",
       "      <td>A2</td>\n",
       "      <td>0.420455</td>\n",
       "      <td>0.101285</td>\n",
       "      <td>0.187248</td>\n",
       "      <td>0.048017</td>\n",
       "      <td>True</td>\n",
       "      <td>False</td>\n",
       "    </tr>\n",
       "    <tr>\n",
       "      <th>14</th>\n",
       "      <td>B</td>\n",
       "      <td>0.521739</td>\n",
       "      <td>A2</td>\n",
       "      <td>0.420455</td>\n",
       "      <td>0.101285</td>\n",
       "      <td>0.187248</td>\n",
       "      <td>0.048017</td>\n",
       "      <td>True</td>\n",
       "      <td>False</td>\n",
       "    </tr>\n",
       "    <tr>\n",
       "      <th>5</th>\n",
       "      <td>A1</td>\n",
       "      <td>0.488372</td>\n",
       "      <td>A2</td>\n",
       "      <td>0.420455</td>\n",
       "      <td>0.067918</td>\n",
       "      <td>0.189541</td>\n",
       "      <td>0.048855</td>\n",
       "      <td>True</td>\n",
       "      <td>False</td>\n",
       "    </tr>\n",
       "    <tr>\n",
       "      <th>11</th>\n",
       "      <td>A1</td>\n",
       "      <td>0.488372</td>\n",
       "      <td>A2</td>\n",
       "      <td>0.420455</td>\n",
       "      <td>0.067918</td>\n",
       "      <td>0.189541</td>\n",
       "      <td>0.048855</td>\n",
       "      <td>True</td>\n",
       "      <td>False</td>\n",
       "    </tr>\n",
       "    <tr>\n",
       "      <th>17</th>\n",
       "      <td>A1</td>\n",
       "      <td>0.488372</td>\n",
       "      <td>A2</td>\n",
       "      <td>0.420455</td>\n",
       "      <td>0.067918</td>\n",
       "      <td>0.189541</td>\n",
       "      <td>0.048855</td>\n",
       "      <td>True</td>\n",
       "      <td>False</td>\n",
       "    </tr>\n",
       "    <tr>\n",
       "      <th>0</th>\n",
       "      <td>B</td>\n",
       "      <td>0.521739</td>\n",
       "      <td>C</td>\n",
       "      <td>0.462500</td>\n",
       "      <td>0.059239</td>\n",
       "      <td>0.196387</td>\n",
       "      <td>0.049477</td>\n",
       "      <td>True</td>\n",
       "      <td>False</td>\n",
       "    </tr>\n",
       "    <tr>\n",
       "      <th>6</th>\n",
       "      <td>B</td>\n",
       "      <td>0.521739</td>\n",
       "      <td>C</td>\n",
       "      <td>0.462500</td>\n",
       "      <td>0.059239</td>\n",
       "      <td>0.196387</td>\n",
       "      <td>0.049477</td>\n",
       "      <td>True</td>\n",
       "      <td>False</td>\n",
       "    </tr>\n",
       "    <tr>\n",
       "      <th>12</th>\n",
       "      <td>B</td>\n",
       "      <td>0.521739</td>\n",
       "      <td>C</td>\n",
       "      <td>0.462500</td>\n",
       "      <td>0.059239</td>\n",
       "      <td>0.196387</td>\n",
       "      <td>0.049477</td>\n",
       "      <td>True</td>\n",
       "      <td>False</td>\n",
       "    </tr>\n",
       "    <tr>\n",
       "      <th>4</th>\n",
       "      <td>C</td>\n",
       "      <td>0.462500</td>\n",
       "      <td>A2</td>\n",
       "      <td>0.420455</td>\n",
       "      <td>0.042045</td>\n",
       "      <td>0.196019</td>\n",
       "      <td>0.049717</td>\n",
       "      <td>False</td>\n",
       "      <td>False</td>\n",
       "    </tr>\n",
       "    <tr>\n",
       "      <th>10</th>\n",
       "      <td>C</td>\n",
       "      <td>0.462500</td>\n",
       "      <td>A2</td>\n",
       "      <td>0.420455</td>\n",
       "      <td>0.042045</td>\n",
       "      <td>0.196019</td>\n",
       "      <td>0.049717</td>\n",
       "      <td>False</td>\n",
       "      <td>False</td>\n",
       "    </tr>\n",
       "    <tr>\n",
       "      <th>16</th>\n",
       "      <td>C</td>\n",
       "      <td>0.462500</td>\n",
       "      <td>A2</td>\n",
       "      <td>0.420455</td>\n",
       "      <td>0.042045</td>\n",
       "      <td>0.196019</td>\n",
       "      <td>0.049717</td>\n",
       "      <td>False</td>\n",
       "      <td>False</td>\n",
       "    </tr>\n",
       "    <tr>\n",
       "      <th>1</th>\n",
       "      <td>B</td>\n",
       "      <td>0.521739</td>\n",
       "      <td>A1</td>\n",
       "      <td>0.488372</td>\n",
       "      <td>0.033367</td>\n",
       "      <td>0.189413</td>\n",
       "      <td>0.048610</td>\n",
       "      <td>False</td>\n",
       "      <td>False</td>\n",
       "    </tr>\n",
       "    <tr>\n",
       "      <th>7</th>\n",
       "      <td>B</td>\n",
       "      <td>0.521739</td>\n",
       "      <td>A1</td>\n",
       "      <td>0.488372</td>\n",
       "      <td>0.033367</td>\n",
       "      <td>0.189413</td>\n",
       "      <td>0.048610</td>\n",
       "      <td>False</td>\n",
       "      <td>False</td>\n",
       "    </tr>\n",
       "    <tr>\n",
       "      <th>13</th>\n",
       "      <td>B</td>\n",
       "      <td>0.521739</td>\n",
       "      <td>A1</td>\n",
       "      <td>0.488372</td>\n",
       "      <td>0.033367</td>\n",
       "      <td>0.189413</td>\n",
       "      <td>0.048610</td>\n",
       "      <td>False</td>\n",
       "      <td>False</td>\n",
       "    </tr>\n",
       "    <tr>\n",
       "      <th>3</th>\n",
       "      <td>C</td>\n",
       "      <td>0.462500</td>\n",
       "      <td>A1</td>\n",
       "      <td>0.488372</td>\n",
       "      <td>-0.025872</td>\n",
       "      <td>0.196520</td>\n",
       "      <td>0.050291</td>\n",
       "      <td>False</td>\n",
       "      <td>False</td>\n",
       "    </tr>\n",
       "    <tr>\n",
       "      <th>9</th>\n",
       "      <td>C</td>\n",
       "      <td>0.462500</td>\n",
       "      <td>A1</td>\n",
       "      <td>0.488372</td>\n",
       "      <td>-0.025872</td>\n",
       "      <td>0.196520</td>\n",
       "      <td>0.050291</td>\n",
       "      <td>False</td>\n",
       "      <td>False</td>\n",
       "    </tr>\n",
       "    <tr>\n",
       "      <th>15</th>\n",
       "      <td>C</td>\n",
       "      <td>0.462500</td>\n",
       "      <td>A1</td>\n",
       "      <td>0.488372</td>\n",
       "      <td>-0.025872</td>\n",
       "      <td>0.196520</td>\n",
       "      <td>0.050291</td>\n",
       "      <td>False</td>\n",
       "      <td>False</td>\n",
       "    </tr>\n",
       "  </tbody>\n",
       "</table>\n",
       "</div>"
      ],
      "text/plain": [
       "   segment1  proportion1 segment2  proportion2      diff  \\\n",
       "2         B     0.521739       A2     0.420455  0.101285   \n",
       "8         B     0.521739       A2     0.420455  0.101285   \n",
       "14        B     0.521739       A2     0.420455  0.101285   \n",
       "5        A1     0.488372       A2     0.420455  0.067918   \n",
       "11       A1     0.488372       A2     0.420455  0.067918   \n",
       "17       A1     0.488372       A2     0.420455  0.067918   \n",
       "0         B     0.521739        C     0.462500  0.059239   \n",
       "6         B     0.521739        C     0.462500  0.059239   \n",
       "12        B     0.521739        C     0.462500  0.059239   \n",
       "4         C     0.462500       A2     0.420455  0.042045   \n",
       "10        C     0.462500       A2     0.420455  0.042045   \n",
       "16        C     0.462500       A2     0.420455  0.042045   \n",
       "1         B     0.521739       A1     0.488372  0.033367   \n",
       "7         B     0.521739       A1     0.488372  0.033367   \n",
       "13        B     0.521739       A1     0.488372  0.033367   \n",
       "3         C     0.462500       A1     0.488372 -0.025872   \n",
       "9         C     0.462500       A1     0.488372 -0.025872   \n",
       "15        C     0.462500       A1     0.488372 -0.025872   \n",
       "\n",
       "    smallest_measurable_effect_size  critical_value  significant  \\\n",
       "2                          0.187248        0.048017         True   \n",
       "8                          0.187248        0.048017         True   \n",
       "14                         0.187248        0.048017         True   \n",
       "5                          0.189541        0.048855         True   \n",
       "11                         0.189541        0.048855         True   \n",
       "17                         0.189541        0.048855         True   \n",
       "0                          0.196387        0.049477         True   \n",
       "6                          0.196387        0.049477         True   \n",
       "12                         0.196387        0.049477         True   \n",
       "4                          0.196019        0.049717        False   \n",
       "10                         0.196019        0.049717        False   \n",
       "16                         0.196019        0.049717        False   \n",
       "1                          0.189413        0.048610        False   \n",
       "7                          0.189413        0.048610        False   \n",
       "13                         0.189413        0.048610        False   \n",
       "3                          0.196520        0.050291        False   \n",
       "9                          0.196520        0.050291        False   \n",
       "15                         0.196520        0.050291        False   \n",
       "\n",
       "    signficant_effect_size  \n",
       "2                    False  \n",
       "8                    False  \n",
       "14                   False  \n",
       "5                    False  \n",
       "11                   False  \n",
       "17                   False  \n",
       "0                    False  \n",
       "6                    False  \n",
       "12                   False  \n",
       "4                    False  \n",
       "10                   False  \n",
       "16                   False  \n",
       "1                    False  \n",
       "7                    False  \n",
       "13                   False  \n",
       "3                    False  \n",
       "9                    False  \n",
       "15                   False  "
      ]
     },
     "execution_count": 105,
     "metadata": {},
     "output_type": "execute_result"
    }
   ],
   "source": [
    "# Pre-final step, but NOT the final outcome\n",
    "dfm['significant'] = (abs(dfm['diff']) > dfm['critical_value'])\n",
    "\n",
    "# The final verdict!\n",
    "dfm['signficant_effect_size'] = ( (abs(dfm['diff']) > dfm['critical_value']) & ( dfm['diff'] >= \n",
    "                                 dfm['smallest_measurable_effect_size']) )\n",
    "    \n",
    "# Organize the columns \n",
    "column_order = ['segment1', 'proportion1', 'segment2', 'proportion2', 'diff', 'smallest_measurable_effect_size',\n",
    "                'critical_value', 'significant', 'signficant_effect_size']\n",
    "\n",
    "# Sort by the biggest, statistically significant improvement\n",
    "dfm[column_order].sort_values(['diff', 'signficant_effect_size'], ascending = [False, True])"
   ]
  },
  {
   "cell_type": "markdown",
   "metadata": {},
   "source": [
    "**Final Result:** Only the samples that have a `significant_effect_size` == `True` are ones that we can confidently say we saw a statistically significant difference at the initial alpha and beta levels established."
   ]
  },
  {
   "cell_type": "markdown",
   "metadata": {},
   "source": [
    "### Which segment pairs had a statistically significant difference?"
   ]
  },
  {
   "cell_type": "code",
   "execution_count": 60,
   "metadata": {},
   "outputs": [
    {
     "data": {
      "text/html": [
       "<div>\n",
       "<style scoped>\n",
       "    .dataframe tbody tr th:only-of-type {\n",
       "        vertical-align: middle;\n",
       "    }\n",
       "\n",
       "    .dataframe tbody tr th {\n",
       "        vertical-align: top;\n",
       "    }\n",
       "\n",
       "    .dataframe thead th {\n",
       "        text-align: right;\n",
       "    }\n",
       "</style>\n",
       "<table border=\"1\" class=\"dataframe\">\n",
       "  <thead>\n",
       "    <tr style=\"text-align: right;\">\n",
       "      <th></th>\n",
       "      <th>segment1</th>\n",
       "      <th>segment2</th>\n",
       "    </tr>\n",
       "  </thead>\n",
       "  <tbody>\n",
       "  </tbody>\n",
       "</table>\n",
       "</div>"
      ],
      "text/plain": [
       "Empty DataFrame\n",
       "Columns: [segment1, segment2]\n",
       "Index: []"
      ]
     },
     "execution_count": 60,
     "metadata": {},
     "output_type": "execute_result"
    }
   ],
   "source": [
    "dfm[dfm['signficant_effect_size'] == True][['segment1', 'segment2']]"
   ]
  },
  {
   "cell_type": "markdown",
   "metadata": {},
   "source": [
    "---"
   ]
  },
  {
   "cell_type": "markdown",
   "metadata": {},
   "source": [
    "**STYLE: Add color to all headers**"
   ]
  },
  {
   "cell_type": "code",
   "execution_count": 61,
   "metadata": {},
   "outputs": [
    {
     "data": {
      "text/html": [
       "<style>\n",
       "h1   {color: green;}\n",
       "h2   {color: blue;}\n",
       "h5   {color: red;}           \n",
       "</style>"
      ],
      "text/plain": [
       "<IPython.core.display.HTML object>"
      ]
     },
     "metadata": {},
     "output_type": "display_data"
    }
   ],
   "source": [
    "%%html\n",
    "<style>\n",
    "h1   {color: green;}\n",
    "h2   {color: blue;}\n",
    "h5   {color: red;}           \n",
    "</style>"
   ]
  },
  {
   "cell_type": "code",
   "execution_count": null,
   "metadata": {},
   "outputs": [],
   "source": []
  }
 ],
 "metadata": {
  "kernelspec": {
   "display_name": "Python 3",
   "language": "python",
   "name": "python3"
  },
  "language_info": {
   "codemirror_mode": {
    "name": "ipython",
    "version": 3
   },
   "file_extension": ".py",
   "mimetype": "text/x-python",
   "name": "python",
   "nbconvert_exporter": "python",
   "pygments_lexer": "ipython3",
   "version": "3.6.5"
  }
 },
 "nbformat": 4,
 "nbformat_minor": 2
}
